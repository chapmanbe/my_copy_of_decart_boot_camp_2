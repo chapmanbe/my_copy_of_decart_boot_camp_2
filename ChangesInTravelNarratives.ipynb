{
 "cells": [
  {
   "cell_type": "markdown",
   "metadata": {},
   "source": [
    "# Changes in Travel Narratives\n",
    "\n",
    "One of the questions we might be interested in using data science for is to determine how the English language has changed. As a simple exploration of this with Python sets (and lists and strings), let's look at how language uses have possibly changed over time.\n",
    "\n",
    "I've created a file that has the list of words used in four different English texts about travel. I have two full-length books from Project Gutenberg and two recently published articles from Intelligent Living:\n",
    "\n",
    "* [Roughing It](http://www.gutenberg.org/cache/epub/3177/pg3177.txt), published by Mark Twain in 1872.\n",
    "* [A Journey to the Western Islands of Scotland](http://www.gutenberg.org/cache/epub/2064/pg2064.txt), published by Samuel Johnson in 1775.\n",
    "* [Riding High](http://intelligentlifemagazine.com/places/riding-high), a magazine travel narrative about Georgia (Asia) published in 2015 by Samantha Weinberg\n",
    "* [Sunny Side Up](http://intelligentlifemagazine.com/content/places/kathleen-jamie/sunny-side), a magazine travel narrative about Scotland published in 2014 by Kathleen Jamie\n",
    "\n",
    "I've taken these texts and stripped out all the punctuation and converted everything to uppercase. I've put these in a pickle file."
   ]
  },
  {
   "cell_type": "code",
   "execution_count": 1,
   "metadata": {},
   "outputs": [],
   "source": [
    "%matplotlib inline \n",
    "# this is some Python magic to let us draw in the notebooks"
   ]
  },
  {
   "cell_type": "markdown",
   "metadata": {},
   "source": [
    "### Install third party packages\n",
    "\n",
    "We are going to use several extensions to Python for drawing our data.\n",
    "\n",
    "* wordcloud: this will produce wordles\n",
    "* matplotlib_venn: this will draw Venn diagrams for us\n",
    "* gensim: this provides some language processing tools\n",
    "\n",
    "We will use the pip command to install the packages"
   ]
  },
  {
   "cell_type": "markdown",
   "metadata": {},
   "source": [
    "#### Executing operating system commands from the notebook\n",
    "\n",
    "In the IPython notebooks, if we start a line with an exclamation point (!), the notebook will interpret this as being a system command not a Python statement."
   ]
  },
  {
   "cell_type": "code",
   "execution_count": 2,
   "metadata": {},
   "outputs": [
    {
     "name": "stdout",
     "output_type": "stream",
     "text": [
      "Requirement already satisfied: wordcloud in /opt/conda/lib/python3.5/site-packages\n",
      "Requirement already satisfied: matplotlib in /opt/conda/lib/python3.5/site-packages (from wordcloud)\n",
      "Requirement already satisfied: pillow in /opt/conda/lib/python3.5/site-packages (from wordcloud)\n",
      "Requirement already satisfied: numpy>=1.6.1 in /opt/conda/lib/python3.5/site-packages (from wordcloud)\n",
      "Requirement already satisfied: cycler>=0.10 in /opt/conda/lib/python3.5/site-packages/cycler-0.10.0-py3.5.egg (from matplotlib->wordcloud)\n",
      "Requirement already satisfied: pyparsing!=2.0.4,!=2.1.2,!=2.1.6,>=2.0.1 in /opt/conda/lib/python3.5/site-packages (from matplotlib->wordcloud)\n",
      "Requirement already satisfied: python-dateutil>=2.1 in /opt/conda/lib/python3.5/site-packages (from matplotlib->wordcloud)\n",
      "Requirement already satisfied: pytz in /opt/conda/lib/python3.5/site-packages (from matplotlib->wordcloud)\n",
      "Requirement already satisfied: six>=1.10 in /opt/conda/lib/python3.5/site-packages (from matplotlib->wordcloud)\n",
      "Requirement already satisfied: kiwisolver>=1.0.1 in /opt/conda/lib/python3.5/site-packages (from matplotlib->wordcloud)\n",
      "Requirement already satisfied: setuptools in /opt/conda/lib/python3.5/site-packages (from kiwisolver>=1.0.1->matplotlib->wordcloud)\n",
      "\u001b[33mYou are using pip version 9.0.3, however version 10.0.1 is available.\n",
      "You should consider upgrading via the 'pip install --upgrade pip' command.\u001b[0m\n",
      "Requirement already satisfied: matplotlib_venn in /opt/conda/lib/python3.5/site-packages\n",
      "Requirement already satisfied: scipy in /opt/conda/lib/python3.5/site-packages (from matplotlib_venn)\n",
      "Requirement already satisfied: numpy in /opt/conda/lib/python3.5/site-packages (from matplotlib_venn)\n",
      "Requirement already satisfied: matplotlib in /opt/conda/lib/python3.5/site-packages (from matplotlib_venn)\n",
      "Requirement already satisfied: cycler>=0.10 in /opt/conda/lib/python3.5/site-packages/cycler-0.10.0-py3.5.egg (from matplotlib->matplotlib_venn)\n",
      "Requirement already satisfied: pyparsing!=2.0.4,!=2.1.2,!=2.1.6,>=2.0.1 in /opt/conda/lib/python3.5/site-packages (from matplotlib->matplotlib_venn)\n",
      "Requirement already satisfied: python-dateutil>=2.1 in /opt/conda/lib/python3.5/site-packages (from matplotlib->matplotlib_venn)\n",
      "Requirement already satisfied: pytz in /opt/conda/lib/python3.5/site-packages (from matplotlib->matplotlib_venn)\n",
      "Requirement already satisfied: six>=1.10 in /opt/conda/lib/python3.5/site-packages (from matplotlib->matplotlib_venn)\n",
      "Requirement already satisfied: kiwisolver>=1.0.1 in /opt/conda/lib/python3.5/site-packages (from matplotlib->matplotlib_venn)\n",
      "Requirement already satisfied: setuptools in /opt/conda/lib/python3.5/site-packages (from kiwisolver>=1.0.1->matplotlib->matplotlib_venn)\n",
      "\u001b[33mYou are using pip version 9.0.3, however version 10.0.1 is available.\n",
      "You should consider upgrading via the 'pip install --upgrade pip' command.\u001b[0m\n"
     ]
    }
   ],
   "source": [
    "!pip install wordcloud\n",
    "!pip install matplotlib_venn"
   ]
  },
  {
   "cell_type": "markdown",
   "metadata": {},
   "source": [
    "### Import packages for use\n",
    "\n",
    "In Python ``import`` is a way to add additional functionality to our base Python system. I think this is like checking books out from a library and adding them to the books we already own."
   ]
  },
  {
   "cell_type": "code",
   "execution_count": 3,
   "metadata": {},
   "outputs": [],
   "source": [
    "import pickle\n",
    "from matplotlib_venn import venn2_circles, venn2, venn3\n",
    "import matplotlib.pyplot as plt\n",
    "from wordcloud import WordCloud\n",
    "from textblob import TextBlob\n",
    "from gensim.models.phrases import Phrases"
   ]
  },
  {
   "cell_type": "markdown",
   "metadata": {},
   "source": [
    "### Reading in our data\n",
    "\n",
    "This is a little bit of Python magic that we are not going to explain for a while. Python has a module called ``pickle`` that allows you to store to your computer hard disk Python objects and to read them back from disk. (Pickled, as in  preserving cucumbers and onions for eating later.)"
   ]
  },
  {
   "cell_type": "code",
   "execution_count": 5,
   "metadata": {},
   "outputs": [],
   "source": [
    "with open(\"./travel_narratives.pickle\",\"rb\") as f0:\n",
    "    narratives = pickle.load(f0)"
   ]
  },
  {
   "cell_type": "markdown",
   "metadata": {},
   "source": [
    "#### What does our data look like?\n",
    "\n",
    "The data are stored in a **dictionary** with the keys and values. The values are strings containg all the text in the books or articles."
   ]
  },
  {
   "cell_type": "code",
   "execution_count": 6,
   "metadata": {},
   "outputs": [
    {
     "data": {
      "text/plain": [
       "dict_keys(['clemens', 'scotland', 'johnson', 'georgia'])"
      ]
     },
     "execution_count": 6,
     "metadata": {},
     "output_type": "execute_result"
    }
   ],
   "source": [
    "narratives.keys()"
   ]
  },
  {
   "cell_type": "markdown",
   "metadata": {},
   "source": [
    "I've saved these files as a string of text. We'll need to convert them to a **list** of words. From there, we can explore the set of words.\n",
    "\n",
    "In Python **lists** are an ordered collection of items, not necessary unique. This differs from a set in these two ways:\n",
    "\n",
    "1. Sets are NOT ordered, but lists are\n",
    "1. Sets have only unique elments, but lists can have duplicate items."
   ]
  },
  {
   "cell_type": "code",
   "execution_count": 6,
   "metadata": {},
   "outputs": [
    {
     "data": {
      "text/plain": [
       "str"
      ]
     },
     "execution_count": 6,
     "metadata": {},
     "output_type": "execute_result"
    }
   ],
   "source": [
    "type(narratives['clemens'])"
   ]
  },
  {
   "cell_type": "code",
   "execution_count": 8,
   "metadata": {},
   "outputs": [
    {
     "name": "stdout",
     "output_type": "stream",
     "text": [
      "at the bottom\r\n",
      "\r\n",
      "chapter xxxvi \r\n",
      "a quartz mill  amalgamation   screening tailings   first quartz mill in\r\n",
      "nevada  fire assay  a smart assayer  i stake for an advance\r\n",
      "\r\n",
      "chapter xxxvii \r\n",
      "the whiteman cement mine  story of its discovery  a secret expedition  a\r\n",
      "nocturnal adventure  a distressing position  a failure and a week s\r\n",
      "holiday\r\n",
      "\r\n",
      "chapter xxxviii \r\n",
      "mono lake  shampooing made easy  thoughtless act of our dog and the\r\n",
      "results  lye water  curiosities of the lake  free hotel  some funny\r\n",
      "incidents a little overdrawn\r\n",
      "\r\n",
      "chapter xxxix \r\n",
      "visit to the islands in lake mono  ashes and desolation  life amid death\r\n",
      "our boat adrift  a jump for life  a storm on the lake  a mass of soap\r\n",
      "suds  geological curiosities  a week on the sierras  a narrow escape from\r\n",
      "a funny explosion   stove heap gone \r\n",
      "\r\n",
      "chapter xl \r\n",
      "the  wide west  mine  it is  interviewed  by higbie  a blind lead  worth\r\n",
      "a million  we are rich at last  plans for the future\r\n",
      "\r\n",
      "chapter xli \r\n",
      "a rheumatic patient  day dreams  an unfortunate stumble  i leave\r\n",
      "suddenly  another patient  higbie in the cabin  our balloon bursted\r\n",
      "  worth nothing  regrets and explanations  our third partner\r\n",
      "\r\n",
      "chapter xlii \r\n",
      "what to do next   obstacles i had met with   jack of all trades   mining\r\n",
      "again  target shooting  i turn city editor  i succeed finely\r\n",
      "\r\n",
      "chapter xliii \r\n",
      "my friend boggs  the school report  boggs pays me an old debt  virginia\r\n",
      "city\r\n",
      "\r\n",
      "chapter xliv \r\n",
      "flush times  plenty of stock  editorial puffing  stocks given me  salting\r\n",
      "mines  a tragedian in a new role\r\n",
      "\r\n",
      "chapter xlv \r\n",
      "flush times continue  sanitary commission fund  wild enthusiasm of the\r\n",
      "people  would not wait to contribute  the sanitary flour sack  it is\r\n",
      "carried to gold hill and dayton  final reception in virginia  results of\r\n",
      "the sale  a grand total\r\n",
      "\r\n",
      "chapter xlvi \r\n",
      "the nabobs of those days  john smith as a traveler  sudden wealth  a\r\n",
      "sixty thousand dollar horse  a smart telegraph operator  a nabob in new\r\n",
      "york city  charters an omnibus   walk in  it s al\n"
     ]
    }
   ],
   "source": [
    "print(narratives['clemens'].lower()[10000:12000])"
   ]
  },
  {
   "cell_type": "code",
   "execution_count": 7,
   "metadata": {},
   "outputs": [
    {
     "name": "stdout",
     "output_type": "stream",
     "text": [
      "[nltk_data] Downloading package brown to /home/chapmanbe/nltk_data...\n",
      "[nltk_data]   Package brown is already up-to-date!\n",
      "[nltk_data] Downloading package punkt to /home/chapmanbe/nltk_data...\n",
      "[nltk_data]   Package punkt is already up-to-date!\n",
      "[nltk_data] Downloading package wordnet to\n",
      "[nltk_data]     /home/chapmanbe/nltk_data...\n",
      "[nltk_data]   Package wordnet is already up-to-date!\n",
      "[nltk_data] Downloading package averaged_perceptron_tagger to\n",
      "[nltk_data]     /home/chapmanbe/nltk_data...\n",
      "[nltk_data]   Package averaged_perceptron_tagger is already up-to-\n",
      "[nltk_data]       date!\n",
      "[nltk_data] Downloading package conll2000 to\n",
      "[nltk_data]     /home/chapmanbe/nltk_data...\n",
      "[nltk_data]   Package conll2000 is already up-to-date!\n",
      "[nltk_data] Downloading package movie_reviews to\n",
      "[nltk_data]     /home/chapmanbe/nltk_data...\n",
      "[nltk_data]   Package movie_reviews is already up-to-date!\n",
      "Finished.\n"
     ]
    }
   ],
   "source": [
    "!python -m textblob.download_corpora"
   ]
  },
  {
   "cell_type": "code",
   "execution_count": 10,
   "metadata": {},
   "outputs": [],
   "source": [
    "clemens_words = TextBlob(narratives['clemens'].lower()).words\n",
    "# this splits the words on \"white spaces\" like spaces, tabs, etc."
   ]
  },
  {
   "cell_type": "markdown",
   "metadata": {},
   "source": [
    "#### How many words are in Mark Twain's book"
   ]
  },
  {
   "cell_type": "code",
   "execution_count": 11,
   "metadata": {},
   "outputs": [
    {
     "data": {
      "text/plain": [
       "174088"
      ]
     },
     "execution_count": 11,
     "metadata": {},
     "output_type": "execute_result"
    }
   ],
   "source": [
    "len(clemens_words)"
   ]
  },
  {
   "cell_type": "markdown",
   "metadata": {},
   "source": [
    "### Now create a set from the words in the book"
   ]
  },
  {
   "cell_type": "code",
   "execution_count": 12,
   "metadata": {},
   "outputs": [],
   "source": [
    "clemens_set = set(clemens_words)\n"
   ]
  },
  {
   "cell_type": "markdown",
   "metadata": {},
   "source": [
    "### Repeat for the other texts"
   ]
  },
  {
   "cell_type": "code",
   "execution_count": 13,
   "metadata": {},
   "outputs": [],
   "source": [
    "johnson_words = TextBlob(narratives['johnson'].lower()).words\n",
    "johnson_set = set(johnson_words)\n",
    "\n",
    "scotland_words = TextBlob(narratives['scotland'].lower()).words\n",
    "scotland_set = set(scotland_words)\n",
    "\n",
    "georgia_words = TextBlob(narratives['georgia'].lower()).words\n",
    "georgia_set = set(georgia_words)\n"
   ]
  },
  {
   "cell_type": "code",
   "execution_count": 33,
   "metadata": {},
   "outputs": [
    {
     "data": {
      "text/plain": [
       "16529"
      ]
     },
     "execution_count": 33,
     "metadata": {},
     "output_type": "execute_result"
    }
   ],
   "source": [
    "vocabulary = johnson_set.union(clemens_set).union(scotland_set).union(georgia_set)\n",
    "len(vocabulary)"
   ]
  },
  {
   "cell_type": "markdown",
   "metadata": {},
   "source": [
    "### Questions we might ask\n",
    "\n",
    "#### Has our vocabulary gotten smaller over the years? \n",
    "\n",
    "* The English language keeps getting bigger with time as we\n",
    "    1. borrow words from other languages (canyon is an example from Spanish)\n",
    "    2. create words to describe new objects or phenomena (e.g. texting)\n",
    "* So we might expect newer publications to have more unique words as there are more words to choose from.\n",
    "\n",
    "#### Have we dumbed down our publications?\n",
    "\n",
    "* In the distant past reading and writing were limited to the cultural elites where the writer might assume that the reader shared a common education of classical history and Greek and Latin, for example. Now we have democratized education and there is an impetus to write for a less educated reader. (An eight grade reading level is assumed for many consumer-legal documents.)\n",
    "\n",
    "* If we are writing for a less educated reader, then our number of unique words would be fewer.\n",
    "\n",
    "#### What would we need to control for in comparing these sets?\n",
    "\n",
    "* These documents are of drastically different length. The longer the text is the more likely a unique word will be used."
   ]
  },
  {
   "cell_type": "markdown",
   "metadata": {},
   "source": [
    "#### How many total words are in the documents?"
   ]
  },
  {
   "cell_type": "code",
   "execution_count": 14,
   "metadata": {},
   "outputs": [
    {
     "name": "stdout",
     "output_type": "stream",
     "text": [
      "174088 59880 3528 3647\n"
     ]
    }
   ],
   "source": [
    "print(len(clemens_words),len(johnson_words),\n",
    "      len(scotland_words),len(georgia_words),)"
   ]
  },
  {
   "cell_type": "markdown",
   "metadata": {},
   "source": [
    "#### How many unique words are in the documents?\n",
    "\n",
    "* Remember **elements** of a set are unique"
   ]
  },
  {
   "cell_type": "code",
   "execution_count": 15,
   "metadata": {},
   "outputs": [
    {
     "name": "stdout",
     "output_type": "stream",
     "text": [
      "13655 6778 1199 1262\n"
     ]
    }
   ],
   "source": [
    "print(len(clemens_set),len(johnson_set),\n",
    "      len(scotland_set),len(georgia_set))"
   ]
  },
  {
   "cell_type": "markdown",
   "metadata": {},
   "source": [
    "#### Would the ratio of number of words to number of unique words be meaningful?"
   ]
  },
  {
   "cell_type": "code",
   "execution_count": 17,
   "metadata": {},
   "outputs": [
    {
     "name": "stdout",
     "output_type": "stream",
     "text": [
      "0.07843734203391388 0.11319305277221109 0.33985260770975056 0.34603783931998905\n"
     ]
    }
   ],
   "source": [
    "print(len(clemens_set)/len(clemens_words),\n",
    "      len(johnson_set)/len(johnson_words),\n",
    "      len(scotland_set)/len(scotland_words),\n",
    "      len(georgia_set)/len(georgia_words))"
   ]
  },
  {
   "cell_type": "code",
   "execution_count": 19,
   "metadata": {},
   "outputs": [
    {
     "data": {
      "text/plain": [
       "frozenset({'a',\n",
       "           'about',\n",
       "           'above',\n",
       "           'across',\n",
       "           'after',\n",
       "           'afterwards',\n",
       "           'again',\n",
       "           'against',\n",
       "           'all',\n",
       "           'almost',\n",
       "           'alone',\n",
       "           'along',\n",
       "           'already',\n",
       "           'also',\n",
       "           'although',\n",
       "           'always',\n",
       "           'am',\n",
       "           'among',\n",
       "           'amongst',\n",
       "           'amoungst',\n",
       "           'amount',\n",
       "           'an',\n",
       "           'and',\n",
       "           'another',\n",
       "           'any',\n",
       "           'anyhow',\n",
       "           'anyone',\n",
       "           'anything',\n",
       "           'anyway',\n",
       "           'anywhere',\n",
       "           'are',\n",
       "           'around',\n",
       "           'as',\n",
       "           'at',\n",
       "           'back',\n",
       "           'be',\n",
       "           'became',\n",
       "           'because',\n",
       "           'become',\n",
       "           'becomes',\n",
       "           'becoming',\n",
       "           'been',\n",
       "           'before',\n",
       "           'beforehand',\n",
       "           'behind',\n",
       "           'being',\n",
       "           'below',\n",
       "           'beside',\n",
       "           'besides',\n",
       "           'between',\n",
       "           'beyond',\n",
       "           'bill',\n",
       "           'both',\n",
       "           'bottom',\n",
       "           'but',\n",
       "           'by',\n",
       "           'call',\n",
       "           'can',\n",
       "           'cannot',\n",
       "           'cant',\n",
       "           'co',\n",
       "           'computer',\n",
       "           'con',\n",
       "           'could',\n",
       "           'couldnt',\n",
       "           'cry',\n",
       "           'de',\n",
       "           'describe',\n",
       "           'detail',\n",
       "           'did',\n",
       "           'didn',\n",
       "           'do',\n",
       "           'does',\n",
       "           'doesn',\n",
       "           'doing',\n",
       "           'don',\n",
       "           'done',\n",
       "           'down',\n",
       "           'due',\n",
       "           'during',\n",
       "           'each',\n",
       "           'eg',\n",
       "           'eight',\n",
       "           'either',\n",
       "           'eleven',\n",
       "           'else',\n",
       "           'elsewhere',\n",
       "           'empty',\n",
       "           'enough',\n",
       "           'etc',\n",
       "           'even',\n",
       "           'ever',\n",
       "           'every',\n",
       "           'everyone',\n",
       "           'everything',\n",
       "           'everywhere',\n",
       "           'except',\n",
       "           'few',\n",
       "           'fifteen',\n",
       "           'fify',\n",
       "           'fill',\n",
       "           'find',\n",
       "           'fire',\n",
       "           'first',\n",
       "           'five',\n",
       "           'for',\n",
       "           'former',\n",
       "           'formerly',\n",
       "           'forty',\n",
       "           'found',\n",
       "           'four',\n",
       "           'from',\n",
       "           'front',\n",
       "           'full',\n",
       "           'further',\n",
       "           'get',\n",
       "           'give',\n",
       "           'go',\n",
       "           'had',\n",
       "           'has',\n",
       "           'hasnt',\n",
       "           'have',\n",
       "           'he',\n",
       "           'hence',\n",
       "           'her',\n",
       "           'here',\n",
       "           'hereafter',\n",
       "           'hereby',\n",
       "           'herein',\n",
       "           'hereupon',\n",
       "           'hers',\n",
       "           'herself',\n",
       "           'him',\n",
       "           'himself',\n",
       "           'his',\n",
       "           'how',\n",
       "           'however',\n",
       "           'hundred',\n",
       "           'i',\n",
       "           'ie',\n",
       "           'if',\n",
       "           'in',\n",
       "           'inc',\n",
       "           'indeed',\n",
       "           'interest',\n",
       "           'into',\n",
       "           'is',\n",
       "           'it',\n",
       "           'its',\n",
       "           'itself',\n",
       "           'just',\n",
       "           'keep',\n",
       "           'kg',\n",
       "           'km',\n",
       "           'last',\n",
       "           'latter',\n",
       "           'latterly',\n",
       "           'least',\n",
       "           'less',\n",
       "           'ltd',\n",
       "           'made',\n",
       "           'make',\n",
       "           'many',\n",
       "           'may',\n",
       "           'me',\n",
       "           'meanwhile',\n",
       "           'might',\n",
       "           'mill',\n",
       "           'mine',\n",
       "           'more',\n",
       "           'moreover',\n",
       "           'most',\n",
       "           'mostly',\n",
       "           'move',\n",
       "           'much',\n",
       "           'must',\n",
       "           'my',\n",
       "           'myself',\n",
       "           'name',\n",
       "           'namely',\n",
       "           'neither',\n",
       "           'never',\n",
       "           'nevertheless',\n",
       "           'next',\n",
       "           'nine',\n",
       "           'no',\n",
       "           'nobody',\n",
       "           'none',\n",
       "           'noone',\n",
       "           'nor',\n",
       "           'not',\n",
       "           'nothing',\n",
       "           'now',\n",
       "           'nowhere',\n",
       "           'of',\n",
       "           'off',\n",
       "           'often',\n",
       "           'on',\n",
       "           'once',\n",
       "           'one',\n",
       "           'only',\n",
       "           'onto',\n",
       "           'or',\n",
       "           'other',\n",
       "           'others',\n",
       "           'otherwise',\n",
       "           'our',\n",
       "           'ours',\n",
       "           'ourselves',\n",
       "           'out',\n",
       "           'over',\n",
       "           'own',\n",
       "           'part',\n",
       "           'per',\n",
       "           'perhaps',\n",
       "           'please',\n",
       "           'put',\n",
       "           'quite',\n",
       "           'rather',\n",
       "           're',\n",
       "           'really',\n",
       "           'regarding',\n",
       "           'same',\n",
       "           'say',\n",
       "           'see',\n",
       "           'seem',\n",
       "           'seemed',\n",
       "           'seeming',\n",
       "           'seems',\n",
       "           'serious',\n",
       "           'several',\n",
       "           'she',\n",
       "           'should',\n",
       "           'show',\n",
       "           'side',\n",
       "           'since',\n",
       "           'sincere',\n",
       "           'six',\n",
       "           'sixty',\n",
       "           'so',\n",
       "           'some',\n",
       "           'somehow',\n",
       "           'someone',\n",
       "           'something',\n",
       "           'sometime',\n",
       "           'sometimes',\n",
       "           'somewhere',\n",
       "           'still',\n",
       "           'such',\n",
       "           'system',\n",
       "           'take',\n",
       "           'ten',\n",
       "           'than',\n",
       "           'that',\n",
       "           'the',\n",
       "           'their',\n",
       "           'them',\n",
       "           'themselves',\n",
       "           'then',\n",
       "           'thence',\n",
       "           'there',\n",
       "           'thereafter',\n",
       "           'thereby',\n",
       "           'therefore',\n",
       "           'therein',\n",
       "           'thereupon',\n",
       "           'these',\n",
       "           'they',\n",
       "           'thick',\n",
       "           'thin',\n",
       "           'third',\n",
       "           'this',\n",
       "           'those',\n",
       "           'though',\n",
       "           'three',\n",
       "           'through',\n",
       "           'throughout',\n",
       "           'thru',\n",
       "           'thus',\n",
       "           'to',\n",
       "           'together',\n",
       "           'too',\n",
       "           'top',\n",
       "           'toward',\n",
       "           'towards',\n",
       "           'twelve',\n",
       "           'twenty',\n",
       "           'two',\n",
       "           'un',\n",
       "           'under',\n",
       "           'unless',\n",
       "           'until',\n",
       "           'up',\n",
       "           'upon',\n",
       "           'us',\n",
       "           'used',\n",
       "           'using',\n",
       "           'various',\n",
       "           'very',\n",
       "           'via',\n",
       "           'was',\n",
       "           'we',\n",
       "           'well',\n",
       "           'were',\n",
       "           'what',\n",
       "           'whatever',\n",
       "           'when',\n",
       "           'whence',\n",
       "           'whenever',\n",
       "           'where',\n",
       "           'whereafter',\n",
       "           'whereas',\n",
       "           'whereby',\n",
       "           'wherein',\n",
       "           'whereupon',\n",
       "           'wherever',\n",
       "           'whether',\n",
       "           'which',\n",
       "           'while',\n",
       "           'whither',\n",
       "           'who',\n",
       "           'whoever',\n",
       "           'whole',\n",
       "           'whom',\n",
       "           'whose',\n",
       "           'why',\n",
       "           'will',\n",
       "           'with',\n",
       "           'within',\n",
       "           'without',\n",
       "           'would',\n",
       "           'yet',\n",
       "           'you',\n",
       "           'your',\n",
       "           'yours',\n",
       "           'yourself',\n",
       "           'yourselves'})"
      ]
     },
     "execution_count": 19,
     "metadata": {},
     "output_type": "execute_result"
    }
   ],
   "source": [
    "import gensim\n",
    "from gensim.parsing.preprocessing import STOPWORDS\n",
    "STOPWORDS"
   ]
  },
  {
   "cell_type": "markdown",
   "metadata": {},
   "source": [
    "#### Results and Discussions\n",
    "\n",
    "* Clemens uses the fewest number of unique words (roughly only one unique word for every 13 words in the text).\n",
    "* The magazine articles have the most unique words (roughtly one unique word for every three words in the text).\n",
    "* Are the magazine articles so much shorter that it is not a fair comparison?\n",
    "\n"
   ]
  },
  {
   "cell_type": "markdown",
   "metadata": {},
   "source": [
    "### Forgetting Georgia for now\n",
    "\n",
    "#### What words occur in Johnson but not in Clemens?\n",
    "#### What word occur in Clemens but not in Johnson?\n",
    "#### What words occur in the modern article about Scotland but not Johnson?"
   ]
  },
  {
   "cell_type": "markdown",
   "metadata": {},
   "source": [
    "#### Let's start off with a Venn diagram"
   ]
  },
  {
   "cell_type": "code",
   "execution_count": 20,
   "metadata": {},
   "outputs": [
    {
     "data": {
      "text/plain": [
       "<matplotlib_venn._common.VennDiagram at 0x7fb152c7afd0>"
      ]
     },
     "execution_count": 20,
     "metadata": {},
     "output_type": "execute_result"
    },
    {
     "data": {
      "image/png": "[encoded data removed]",
      "text/plain": [
       "<Figure size 432x288 with 1 Axes>"
      ]
     },
     "metadata": {},
     "output_type": "display_data"
    }
   ],
   "source": [
    "venn3([clemens_set, johnson_set, scotland_set],\n",
    "      (\"Roughing It\",\"Travels\",\"Sunny Side Up\"))"
   ]
  },
  {
   "cell_type": "markdown",
   "metadata": {},
   "source": [
    "### Set Difference Operators\n",
    "\n",
    "* We can use the difference operators of sets to create new sets that occur only in one set and not the other.\n",
    "\n",
    "* Recall:\n",
    "\n",
    "The relative complement (**difference**) of $B$ with respect to $A$ is the set of all elements in $A$ that are not in $B$. This is denoted by \n",
    "$A\\setminus B = \\{x: x\\in A, x\\notin B\\}$\n"
   ]
  },
  {
   "cell_type": "code",
   "execution_count": 22,
   "metadata": {},
   "outputs": [],
   "source": [
    "johnson_not_clemens=johnson_set.difference(clemens_set)\n",
    "clemens_not_johnson = clemens_set.difference(johnson_set)\n",
    "scotland_not_johnson = scotland_set.difference(johnson_set)\n",
    "scotland_not_johnson_not_clemens = scotland_set.difference(johnson_set.union(clemens_set))"
   ]
  },
  {
   "cell_type": "code",
   "execution_count": 23,
   "metadata": {},
   "outputs": [],
   "source": [
    "from collections import Counter"
   ]
  },
  {
   "cell_type": "markdown",
   "metadata": {},
   "source": [
    "### What are some of the sources of differences in the words being used?\n",
    "\n",
    "* We might recognize right off the bat that there are different spellings between American and British English.\n",
    "* There are going to be different placenames, etc."
   ]
  },
  {
   "cell_type": "markdown",
   "metadata": {},
   "source": [
    "### Using wordles to visualize the differences"
   ]
  },
  {
   "cell_type": "markdown",
   "metadata": {},
   "source": [
    "### First eliminate non-informative words\n",
    "\n",
    "Lots of words in a language don't convey much meaning. In natural language processing (computer processing of language), these are referred to as **stopwords**"
   ]
  },
  {
   "cell_type": "code",
   "execution_count": 24,
   "metadata": {},
   "outputs": [
    {
     "data": {
      "text/plain": [
       "[0, 1, 2, 3, 4, 5, 6, 7, 8, 9, 10, 11, 12, 13, 14, 15, 16, 17, 18, 19]"
      ]
     },
     "execution_count": 24,
     "metadata": {},
     "output_type": "execute_result"
    }
   ],
   "source": [
    "[i for i in range(0,20)]"
   ]
  },
  {
   "cell_type": "code",
   "execution_count": 61,
   "metadata": {},
   "outputs": [],
   "source": [
    "from gensim.parsing.preprocessing import STOPWORDS\n",
    "STOPWORDS= frozenset([w.lower() for w in STOPWORDS]+['t'])"
   ]
  },
  {
   "cell_type": "code",
   "execution_count": 37,
   "metadata": {},
   "outputs": [
    {
     "data": {
      "text/plain": [
       "{'reposited',\n",
       " 'cussed',\n",
       " 'superadded',\n",
       " 'camp',\n",
       " 'sway',\n",
       " 'mumbling',\n",
       " 'strutted',\n",
       " 'isolation',\n",
       " 'punches',\n",
       " 'fours',\n",
       " 'conquered',\n",
       " 'denying',\n",
       " 'turned',\n",
       " 'staking',\n",
       " 'ecstasy',\n",
       " 'jumped',\n",
       " 'dissipating',\n",
       " 'obtrude',\n",
       " 'baltimore',\n",
       " 'scotish',\n",
       " 'words',\n",
       " 'momentous',\n",
       " 'tutor',\n",
       " 'writes',\n",
       " 'cuddies',\n",
       " 'schemes',\n",
       " 'chorus',\n",
       " 'towzled',\n",
       " 'reducing',\n",
       " 'captors',\n",
       " 'molestation',\n",
       " 'tanned',\n",
       " 'excursions',\n",
       " 'southward',\n",
       " 'never',\n",
       " 'shake',\n",
       " 'overflow',\n",
       " 'tender',\n",
       " 'murdered',\n",
       " 'highlander',\n",
       " 'imputed',\n",
       " 'consumed',\n",
       " 'despairing',\n",
       " 'vice',\n",
       " 'analogy',\n",
       " 'handsome',\n",
       " 'shade',\n",
       " 'ambitions',\n",
       " 'boil',\n",
       " 'miles',\n",
       " 'commander',\n",
       " 'qualification',\n",
       " 'pillar',\n",
       " 'tending',\n",
       " 'rubbed',\n",
       " 'latterly',\n",
       " 'honesty',\n",
       " 'washington',\n",
       " 'inattention',\n",
       " 'deceive',\n",
       " 'sicken',\n",
       " 'ulterior',\n",
       " 'homestead',\n",
       " 'reaches',\n",
       " 'reverential',\n",
       " 'plummer',\n",
       " 'maze',\n",
       " 'outsider',\n",
       " 'steady',\n",
       " 'dorn',\n",
       " 'worshipped',\n",
       " 'stealing',\n",
       " 'garble',\n",
       " 'donald',\n",
       " 'insurance',\n",
       " 'jones',\n",
       " 'awfullest',\n",
       " 'holiday',\n",
       " 'barricade',\n",
       " 'seller',\n",
       " 'yield',\n",
       " 'cushions',\n",
       " 'commands',\n",
       " 'interfered',\n",
       " 'panorama',\n",
       " 'elections',\n",
       " 'completion',\n",
       " 'vision',\n",
       " 'hooked',\n",
       " 'talks',\n",
       " 'scared',\n",
       " 'impoverishes',\n",
       " 'seemed',\n",
       " 'casings',\n",
       " 'illiberal',\n",
       " 'propped',\n",
       " 'put',\n",
       " 'dissolved',\n",
       " 'associated',\n",
       " 'gratitude',\n",
       " 'teacher',\n",
       " 'sloop',\n",
       " 'bucket',\n",
       " 'amusing',\n",
       " 'heavy',\n",
       " 'eschewing',\n",
       " 'draped',\n",
       " 'discharge',\n",
       " 'mistaken',\n",
       " 'circumstances',\n",
       " 'supported',\n",
       " 'ours',\n",
       " 'marries',\n",
       " 'hopelessly',\n",
       " 'adventurers',\n",
       " 'bidding',\n",
       " 'inhabited',\n",
       " 'plug',\n",
       " 'eyeing',\n",
       " 'ebook',\n",
       " 'woody',\n",
       " 'hostility',\n",
       " 'indications',\n",
       " 'mountainous',\n",
       " 'caprice',\n",
       " 'sacrificed',\n",
       " 'crushed',\n",
       " 'horrid',\n",
       " 'offerings',\n",
       " 'sociability',\n",
       " 'infallible',\n",
       " 'unborn',\n",
       " 'pots',\n",
       " 'abasement',\n",
       " 'reckoning',\n",
       " 'murderous',\n",
       " 'feud',\n",
       " 'subjugated',\n",
       " 'intent',\n",
       " 'fewel',\n",
       " 'talked',\n",
       " 'distressing',\n",
       " 'allotting',\n",
       " 'obtain',\n",
       " 'eagle',\n",
       " 'indignity',\n",
       " 'inflict',\n",
       " 'scourge',\n",
       " 'deluged',\n",
       " 'both',\n",
       " 'mills',\n",
       " 'vengeance',\n",
       " 'deems',\n",
       " 'illegitimate',\n",
       " 'jokes',\n",
       " 'theater',\n",
       " 'knoll',\n",
       " 'unearthly',\n",
       " 'stools',\n",
       " 'precarious',\n",
       " 'misunderstanding',\n",
       " 'shifting',\n",
       " 'dying',\n",
       " 'encamped',\n",
       " 'nears',\n",
       " 'clods',\n",
       " 'faderland',\n",
       " 'fine',\n",
       " 'discernible',\n",
       " 'monstrous',\n",
       " 'attacked',\n",
       " 'rose',\n",
       " 'importunate',\n",
       " 'workshop',\n",
       " 'darting',\n",
       " 'interposed',\n",
       " 'mind',\n",
       " 'bankrupt',\n",
       " 'jury',\n",
       " 'buys',\n",
       " 'guide',\n",
       " 'domesticks',\n",
       " 'promontory',\n",
       " 'k',\n",
       " 'feast',\n",
       " 'overflowed',\n",
       " 'apiece',\n",
       " 'measurement',\n",
       " 'envoy',\n",
       " 'robe',\n",
       " 'reverberation',\n",
       " 'writhing',\n",
       " 'ridges',\n",
       " 'bolt',\n",
       " 'lunch',\n",
       " 'mosiah',\n",
       " 'finance',\n",
       " 'quirks',\n",
       " 'happiness',\n",
       " 'remains',\n",
       " 'entitles',\n",
       " 'traditions',\n",
       " 'ranchman',\n",
       " 'homicide',\n",
       " 'skirmish',\n",
       " 'transcribe',\n",
       " 'lid',\n",
       " 'snuggery',\n",
       " 'viler',\n",
       " 'selecting',\n",
       " 'apology',\n",
       " 'energy',\n",
       " 'projects',\n",
       " 'meek',\n",
       " 'bars',\n",
       " 'blew',\n",
       " 'drawed',\n",
       " 'ciphering',\n",
       " 'par',\n",
       " 'sandy',\n",
       " 'compound',\n",
       " 'animating',\n",
       " 'kinds',\n",
       " 'calla',\n",
       " 'friends',\n",
       " '£7',\n",
       " 'handful',\n",
       " 'necessaries',\n",
       " 'shifts',\n",
       " 'fifth',\n",
       " 'scriptures',\n",
       " 'worshipping',\n",
       " 'depresses',\n",
       " 'tea',\n",
       " 'trim',\n",
       " 'mess',\n",
       " 'granting',\n",
       " 'weddings',\n",
       " 'counted',\n",
       " 'xxxiii',\n",
       " 'disappointed',\n",
       " 'ware',\n",
       " 'johnston',\n",
       " 'visionary',\n",
       " 'pliant',\n",
       " 'builds',\n",
       " 'stories',\n",
       " 'environmental',\n",
       " 'tone',\n",
       " 'grandfather',\n",
       " 'pork',\n",
       " 'sierras',\n",
       " 'lane',\n",
       " 'oblivion',\n",
       " 'competitions',\n",
       " 'detection',\n",
       " 'complexion',\n",
       " 'slowly',\n",
       " 'atoms',\n",
       " 'reuel',\n",
       " 'hammered',\n",
       " 'senses',\n",
       " 'hoofs',\n",
       " 'allied',\n",
       " 'mistakes',\n",
       " 'lewis',\n",
       " 'untitled',\n",
       " 'gaudy',\n",
       " 'threatening',\n",
       " 'glared',\n",
       " 'saturate',\n",
       " 'sanctuary',\n",
       " 'subdividing',\n",
       " 'accommodations',\n",
       " 'fascination',\n",
       " 'retract',\n",
       " 'observances',\n",
       " 'californians',\n",
       " 'framework',\n",
       " 'tubs',\n",
       " 'shalva',\n",
       " 'mile',\n",
       " 'erected',\n",
       " 'learns',\n",
       " 'scratch',\n",
       " 'doubt',\n",
       " 'clip',\n",
       " 'foxes',\n",
       " 'stimulus',\n",
       " 'wondering',\n",
       " 'maemae',\n",
       " 'stern',\n",
       " 'politicians',\n",
       " 'woful',\n",
       " 'century',\n",
       " 'gloomy',\n",
       " 'shipwrecks',\n",
       " 'signed',\n",
       " 'lxxiv',\n",
       " 'voyage',\n",
       " 'featured',\n",
       " 'incurious',\n",
       " 'moustaches',\n",
       " 'onpleasant',\n",
       " 'embody',\n",
       " 'uko',\n",
       " 'exhilarating',\n",
       " 'fixtures',\n",
       " 'digression',\n",
       " '800',\n",
       " 'acknowledged',\n",
       " 'weasel',\n",
       " 'tune',\n",
       " 'sole',\n",
       " 'handles',\n",
       " 'trouble',\n",
       " 'appendix',\n",
       " 'becalmed',\n",
       " 'workings',\n",
       " 'luxuriant',\n",
       " 'proved',\n",
       " 'harvests',\n",
       " 'waterfalls',\n",
       " 'tempest',\n",
       " 'poison',\n",
       " 'glibness',\n",
       " 'cradle',\n",
       " 'surreptitiously',\n",
       " 'possessions',\n",
       " 'fringe',\n",
       " 'plane',\n",
       " 'forthwith',\n",
       " 'meats',\n",
       " 'diminutive',\n",
       " 'worlds',\n",
       " 'high',\n",
       " 'prof',\n",
       " 'explain',\n",
       " 'healthy',\n",
       " 'ward',\n",
       " 'cure',\n",
       " 'flume',\n",
       " 'investigated',\n",
       " 'said',\n",
       " 'gestures',\n",
       " 'expence',\n",
       " 'survey',\n",
       " 'footfall',\n",
       " 'disappointment',\n",
       " 'reasonable',\n",
       " 'firmest',\n",
       " 'joy',\n",
       " 'pagans',\n",
       " 'rhythm',\n",
       " 'difficulty',\n",
       " 'freckled',\n",
       " 'labeled',\n",
       " 'bathos',\n",
       " 'much',\n",
       " 'eventful',\n",
       " 'tollroad',\n",
       " 'slayer',\n",
       " 'bret',\n",
       " 'noah',\n",
       " 'ostensibly',\n",
       " 'p',\n",
       " 'fulfillment',\n",
       " 'label',\n",
       " 'guaranty',\n",
       " 'irregular',\n",
       " 'purchasable',\n",
       " 'suffocate',\n",
       " 'explanation',\n",
       " 'lectures',\n",
       " 'healing',\n",
       " 'nicholas',\n",
       " 'surrendered',\n",
       " 'treachery',\n",
       " 'page',\n",
       " 'laudable',\n",
       " 'consequent',\n",
       " 'faltered',\n",
       " 'strongest',\n",
       " 'shall',\n",
       " 'unarmed',\n",
       " 'dustbin',\n",
       " 'smartness',\n",
       " 'resulted',\n",
       " 'clicks',\n",
       " 'paddling',\n",
       " 'walled',\n",
       " 'procured',\n",
       " 'thirsted',\n",
       " 'threatenin',\n",
       " 'intellectual',\n",
       " 'prospecting',\n",
       " 'ross',\n",
       " 'since',\n",
       " 'ran',\n",
       " 'billard',\n",
       " 'compensation',\n",
       " 'parentage',\n",
       " 'comely',\n",
       " 'emphasize',\n",
       " 'sagebrush',\n",
       " 'jig',\n",
       " 'struck',\n",
       " 'addressed',\n",
       " 'tosses',\n",
       " 'animosity',\n",
       " 'freak',\n",
       " 'insults',\n",
       " 'rope',\n",
       " 'composing',\n",
       " 'kink',\n",
       " 'perilous',\n",
       " 'us',\n",
       " 'disappearances',\n",
       " 'scaffold',\n",
       " 'colorado',\n",
       " 'exercised',\n",
       " 'surveyor',\n",
       " 'trips',\n",
       " 'ducked',\n",
       " 'accumulations',\n",
       " 'failing',\n",
       " 'eden',\n",
       " 'between',\n",
       " 'i',\n",
       " 'variance',\n",
       " 'assisting',\n",
       " 'uphill',\n",
       " 'decay',\n",
       " 'aimed',\n",
       " 'worshipful',\n",
       " 'bells',\n",
       " 'oleander',\n",
       " 'enchanting',\n",
       " 'copper',\n",
       " 'bermudas',\n",
       " 'struggle',\n",
       " 'roughest',\n",
       " 'irruptions',\n",
       " 'synod',\n",
       " 'ecstasies',\n",
       " 'sierra',\n",
       " 'root',\n",
       " 'programme',\n",
       " 'torch',\n",
       " 'prevail',\n",
       " 'model',\n",
       " 'monastery',\n",
       " 'sections',\n",
       " 'jessamine',\n",
       " 'biled',\n",
       " 'dreamy',\n",
       " 'brute',\n",
       " 'mercheta',\n",
       " 'unfit',\n",
       " 'deluge',\n",
       " 'system',\n",
       " 'toy',\n",
       " 'posture',\n",
       " 'sustain',\n",
       " 'wherefore',\n",
       " 'glad',\n",
       " 'medium',\n",
       " 'unburdened',\n",
       " 'assassinate',\n",
       " 'harming',\n",
       " 'afflicted',\n",
       " 'kindnesses',\n",
       " 'reglar',\n",
       " 'underhanded',\n",
       " 'threading',\n",
       " 'territorially',\n",
       " 'hanging',\n",
       " 'en',\n",
       " 'ulinish',\n",
       " 'robber',\n",
       " 'respected',\n",
       " 'flimsy',\n",
       " 'unpeopled',\n",
       " 'boring',\n",
       " 'snow',\n",
       " 'vacation',\n",
       " 'darkened',\n",
       " 'adobes',\n",
       " 'drones',\n",
       " 'despicable',\n",
       " 'seam',\n",
       " 'wretchedly',\n",
       " 'sincerely',\n",
       " 'soldiering',\n",
       " 'weed',\n",
       " 'monks',\n",
       " 'unaccountable',\n",
       " 'mush',\n",
       " 'rampart',\n",
       " 'expressed',\n",
       " 'anecdote',\n",
       " 'enables',\n",
       " 'undiscovered',\n",
       " 'rarity',\n",
       " 'sudden',\n",
       " 'narrowing',\n",
       " 'tom',\n",
       " 'passengers',\n",
       " 'pitcher',\n",
       " 'shifted',\n",
       " 'refund',\n",
       " 'flexed',\n",
       " 'henceforth',\n",
       " 'driest',\n",
       " 'planned',\n",
       " 'in',\n",
       " 'shingles',\n",
       " 'vermin',\n",
       " 'riven',\n",
       " 'dearth',\n",
       " 'turf',\n",
       " 'simon',\n",
       " 'coffins',\n",
       " 'capitalists',\n",
       " 'neglecting',\n",
       " 'roofed',\n",
       " 'arrows',\n",
       " 'gentlemen',\n",
       " 'rode',\n",
       " 'purest',\n",
       " 'happiest',\n",
       " 'spices',\n",
       " '11',\n",
       " 'alternating',\n",
       " 'ruffianly',\n",
       " 'zephyr',\n",
       " 'coverlets',\n",
       " 'stockings',\n",
       " 'unselfishness',\n",
       " 'win',\n",
       " 'woods',\n",
       " 'prophecy',\n",
       " 'pull',\n",
       " 'irreconcilable',\n",
       " 'thanksgiving',\n",
       " 'reconnoiter',\n",
       " 'coll',\n",
       " 'claw',\n",
       " 'aurora',\n",
       " 'books',\n",
       " 'august',\n",
       " 'commercial',\n",
       " 'had',\n",
       " 'brink',\n",
       " 'deliverers',\n",
       " 'dreaming',\n",
       " 'crests',\n",
       " 'retailed',\n",
       " 'truck',\n",
       " 'founded',\n",
       " 'kneel',\n",
       " 'scurrying',\n",
       " 'ardent',\n",
       " 'heave',\n",
       " 'successful',\n",
       " 'walls',\n",
       " 'ravines',\n",
       " 'heavier',\n",
       " 'overflowing',\n",
       " 'ingenuous',\n",
       " 'cursings',\n",
       " 'heifers',\n",
       " 'sandiland',\n",
       " 'nor',\n",
       " 'glimpses',\n",
       " 'peacock',\n",
       " '60',\n",
       " 'proportionate',\n",
       " 'resemblance',\n",
       " 'sleepily',\n",
       " 'velvety',\n",
       " 'repining',\n",
       " 'twigs',\n",
       " 'champing',\n",
       " 'whosoever',\n",
       " 'finish',\n",
       " 'viciously',\n",
       " 'occur',\n",
       " 'bankers',\n",
       " 'additions',\n",
       " 'crest',\n",
       " 'merely',\n",
       " 'fourth',\n",
       " 'strode',\n",
       " 'singed',\n",
       " 'claiming',\n",
       " 'zag',\n",
       " 'rainy',\n",
       " 'calf',\n",
       " 'unsuitable',\n",
       " 'burnt',\n",
       " 'cleadale',\n",
       " 'senator',\n",
       " 'discoveries',\n",
       " 'woe',\n",
       " 'buncombe',\n",
       " 'creditors',\n",
       " 'drunkenness',\n",
       " 'delivering',\n",
       " 'true',\n",
       " 'makes',\n",
       " 'confectioner',\n",
       " 'unless',\n",
       " 'simplify',\n",
       " 'beached',\n",
       " 'employers',\n",
       " 'strolled',\n",
       " 'plants',\n",
       " 'gnats',\n",
       " 'enjoy',\n",
       " 'alight',\n",
       " 'courtesies',\n",
       " 'siberian',\n",
       " 'needful',\n",
       " 'backwards',\n",
       " 'reeled',\n",
       " 'anchors',\n",
       " 'unsightly',\n",
       " 'indited',\n",
       " 'tenants',\n",
       " 'blighted',\n",
       " 'hideousness',\n",
       " 'sorrow',\n",
       " 'russian',\n",
       " 'beginnings',\n",
       " 'popularly',\n",
       " 'brushwood',\n",
       " 'eels',\n",
       " 'marches',\n",
       " 'applying',\n",
       " 'quondam',\n",
       " 'usurped',\n",
       " 'chapels',\n",
       " 'fairy',\n",
       " 'insect',\n",
       " 'moves',\n",
       " 'accents',\n",
       " 'leave',\n",
       " '184',\n",
       " 'errand',\n",
       " 'tenfold',\n",
       " 'flocks',\n",
       " 'discoverable',\n",
       " 'tricked',\n",
       " 'hickman',\n",
       " 'upon',\n",
       " 'subjected',\n",
       " 'ambushes',\n",
       " 'light',\n",
       " 'unspeakably',\n",
       " 'threes',\n",
       " 'worship',\n",
       " 'irons',\n",
       " 'navies',\n",
       " 'thought',\n",
       " 'storms',\n",
       " 'cooling',\n",
       " 'oyster',\n",
       " 'roadside',\n",
       " 'thoughts',\n",
       " 'bestowed',\n",
       " 'collar',\n",
       " 'liberated',\n",
       " 'marvel',\n",
       " 'abomination',\n",
       " 'san',\n",
       " 'geranium',\n",
       " 'swallowed',\n",
       " 'unsociably',\n",
       " 'recommend',\n",
       " 'test',\n",
       " 'amalgamation',\n",
       " 'amiable',\n",
       " 'hires',\n",
       " 'precipitancy',\n",
       " 'pra',\n",
       " 'offensive',\n",
       " 'archbishop',\n",
       " 'pagan',\n",
       " 'collation',\n",
       " 'sting',\n",
       " 'sprawling',\n",
       " 'blasting',\n",
       " 'surrounding',\n",
       " 'betrayed',\n",
       " 'rains',\n",
       " 'judge',\n",
       " 'secessionist',\n",
       " 'oak',\n",
       " 'jarring',\n",
       " 'ease',\n",
       " 'bonds',\n",
       " 'municipal',\n",
       " 'hastening',\n",
       " 'droves',\n",
       " 'splendor',\n",
       " 'sayin',\n",
       " 'average',\n",
       " 'lines',\n",
       " 'glued',\n",
       " 'moisture',\n",
       " 'sobbed',\n",
       " 'duchess',\n",
       " 'burton',\n",
       " 'hob',\n",
       " 'jolts',\n",
       " 'shaded',\n",
       " 'labors',\n",
       " 'soggy',\n",
       " 'quotation',\n",
       " 'roop',\n",
       " 'satisfaction',\n",
       " 'wildness',\n",
       " 'instrument',\n",
       " 'havoc',\n",
       " 'or',\n",
       " 'frighted',\n",
       " 'stir',\n",
       " '270',\n",
       " 'flannel',\n",
       " 'thou',\n",
       " 'announced',\n",
       " 'macpherson',\n",
       " 'brook',\n",
       " 'huge',\n",
       " 'irishman',\n",
       " 'very',\n",
       " 'waterless',\n",
       " 'abundance',\n",
       " 'blades',\n",
       " 'intending',\n",
       " 'caps',\n",
       " 'abaft',\n",
       " 'lv',\n",
       " 'cards',\n",
       " 'might',\n",
       " 'salting',\n",
       " 'tamarind',\n",
       " 'oblong',\n",
       " 'fronts',\n",
       " 'loaves',\n",
       " 'fireproof',\n",
       " 'prophet',\n",
       " 'stalk',\n",
       " 'cues',\n",
       " 'welch',\n",
       " 'exordium',\n",
       " 'wind',\n",
       " 'stabbing',\n",
       " 'builder',\n",
       " 'sow',\n",
       " 'chapel',\n",
       " 'claimants',\n",
       " 'designing',\n",
       " 'captain',\n",
       " '18',\n",
       " 'pious',\n",
       " 'herein',\n",
       " 'justifiable',\n",
       " 'forenoon',\n",
       " 'sealed',\n",
       " 'deliberations',\n",
       " 'resurrection',\n",
       " 'notion',\n",
       " 'temperature',\n",
       " 'occasion',\n",
       " 'arrangement',\n",
       " 'comparatively',\n",
       " 'shave',\n",
       " 'hospitality',\n",
       " 'wickedest',\n",
       " 'oblique',\n",
       " 'yourn',\n",
       " 'sergeant',\n",
       " 'tersely',\n",
       " 'sever',\n",
       " 'countenances',\n",
       " 'professors',\n",
       " 'remained',\n",
       " 'deer',\n",
       " 'meanwhile',\n",
       " 'negligence',\n",
       " 'subtlety',\n",
       " 'unmoved',\n",
       " 'pup',\n",
       " 'ejaculations',\n",
       " 'crusted',\n",
       " 'speculation',\n",
       " 'imitation',\n",
       " 'goddesses',\n",
       " 'unsolicited',\n",
       " 'whaleman',\n",
       " '50',\n",
       " 'contests',\n",
       " 'norwegian',\n",
       " 'victory',\n",
       " 'hottest',\n",
       " 'domiciles',\n",
       " 'traveller',\n",
       " 'checker',\n",
       " 'class',\n",
       " 'fabrick',\n",
       " 'distinguishable',\n",
       " 'warehouse',\n",
       " 'discussion',\n",
       " 'incubation',\n",
       " 'easing',\n",
       " 'feel',\n",
       " 'brief',\n",
       " 'teem',\n",
       " 'disappointing',\n",
       " 'wha',\n",
       " 'odd',\n",
       " 'pratt',\n",
       " 'shaking',\n",
       " 'meaning',\n",
       " 'baled',\n",
       " 'chances',\n",
       " 'essayed',\n",
       " 'drives',\n",
       " 'absorbed',\n",
       " 'baskets',\n",
       " 'forehead',\n",
       " 'depressingly',\n",
       " 'tenderer',\n",
       " 'riotous',\n",
       " 'strain',\n",
       " 'stems',\n",
       " 'acid',\n",
       " 'downloading',\n",
       " 'character',\n",
       " 'undertaker',\n",
       " 'crosses',\n",
       " 'adjusting',\n",
       " 'closes',\n",
       " 'on',\n",
       " 'gold',\n",
       " 'ii',\n",
       " 'cleared',\n",
       " 'mention',\n",
       " 'pertinent',\n",
       " 'squadrons',\n",
       " 'christian',\n",
       " 'oaten',\n",
       " 'systematic',\n",
       " 'inhabitant',\n",
       " 'ethiop',\n",
       " 'famous',\n",
       " 'proceeding',\n",
       " 'formally',\n",
       " 'shews',\n",
       " 'indigestion',\n",
       " 'sell',\n",
       " 'posted',\n",
       " 'bloated',\n",
       " 'throwing',\n",
       " 'engaged',\n",
       " 'empties',\n",
       " 'gaining',\n",
       " 'guides',\n",
       " 'fun',\n",
       " 'townsmen',\n",
       " 'readiness',\n",
       " 'ribs',\n",
       " 'circle',\n",
       " 'scooping',\n",
       " 'prairies',\n",
       " 'disaffected',\n",
       " 'cleanliness',\n",
       " 'chess',\n",
       " 'inclose',\n",
       " 'gutted',\n",
       " 'boiled',\n",
       " 'attached',\n",
       " 'tapers',\n",
       " 'traces',\n",
       " 'marshal',\n",
       " 'zeal',\n",
       " 'macalive',\n",
       " 'funds',\n",
       " 'swathe',\n",
       " 'personalities',\n",
       " 'jerk',\n",
       " 'due',\n",
       " 'clothing',\n",
       " 'growled',\n",
       " 'bottoms',\n",
       " 'entice',\n",
       " 'dime',\n",
       " 'privately',\n",
       " 'national',\n",
       " 'haven',\n",
       " 'skirting',\n",
       " 'conciliation',\n",
       " 'about',\n",
       " 'coacoanut',\n",
       " 'mined',\n",
       " 'felicity',\n",
       " 'superiority',\n",
       " 'whisky',\n",
       " 'thames',\n",
       " 'ailments',\n",
       " 'crash',\n",
       " 'seventeen',\n",
       " 'ranting',\n",
       " 'yum',\n",
       " 'death',\n",
       " 'document',\n",
       " 'outlet',\n",
       " 'provocation',\n",
       " 'amusements',\n",
       " 'electronic',\n",
       " 'age',\n",
       " 'lxxvi',\n",
       " 'firth',\n",
       " 'progressed',\n",
       " 'billings',\n",
       " 'devoid',\n",
       " 'proposition',\n",
       " 'etiquette',\n",
       " 'nimble',\n",
       " 'portrayal',\n",
       " 'majority',\n",
       " 'noonday',\n",
       " 'disgrace',\n",
       " 'moustachioed',\n",
       " 'banishment',\n",
       " 'honour',\n",
       " 'reflection',\n",
       " 'goblins',\n",
       " 'coroner',\n",
       " 'bagpipe',\n",
       " 'vagabonds',\n",
       " 'impairing',\n",
       " 'cavalrymen',\n",
       " 'sobered',\n",
       " 'cobble',\n",
       " 'hips',\n",
       " 'enchantment',\n",
       " 'thrall',\n",
       " 'stricter',\n",
       " 'poisoned',\n",
       " 'loss',\n",
       " 'carelessly',\n",
       " 'throve',\n",
       " 'hired',\n",
       " 'reg',\n",
       " 'tears',\n",
       " 'unprofitable',\n",
       " 'equerry',\n",
       " 'relating',\n",
       " 'regarded',\n",
       " 'leak',\n",
       " 'morning',\n",
       " 'off',\n",
       " 'spaniards',\n",
       " 'endowed',\n",
       " 'racing',\n",
       " 'reigned',\n",
       " 'statements',\n",
       " 'reserved',\n",
       " 'was',\n",
       " 'stammered',\n",
       " 'protect',\n",
       " 'needlessly',\n",
       " 'churches',\n",
       " 'alternative',\n",
       " 'nearest',\n",
       " 'klopstock',\n",
       " 'wisdom',\n",
       " 'democracy',\n",
       " 'juncture',\n",
       " 'sensation',\n",
       " 'perusal',\n",
       " 'responsibilities',\n",
       " 'coarse',\n",
       " 'muttering',\n",
       " 'perkins',\n",
       " 'fearful',\n",
       " 'baalam',\n",
       " 'george',\n",
       " 'wail',\n",
       " 'lie',\n",
       " 'observations',\n",
       " 'protuberance',\n",
       " 'lesser',\n",
       " 'enthusiastic',\n",
       " 'unhappy',\n",
       " 'exported',\n",
       " 'mathoni',\n",
       " ...}"
      ]
     },
     "execution_count": 37,
     "metadata": {},
     "output_type": "execute_result"
    }
   ],
   "source": [
    "vocabulary"
   ]
  },
  {
   "cell_type": "code",
   "execution_count": 39,
   "metadata": {},
   "outputs": [
    {
     "data": {
      "text/plain": [
       "(16215, 16529)"
      ]
     },
     "execution_count": 39,
     "metadata": {},
     "output_type": "execute_result"
    }
   ],
   "source": [
    "vocabulary_wo_sw = vocabulary.difference(STOPWORDS)\n",
    "len(vocabulary_wo_sw), len(vocabulary)"
   ]
  },
  {
   "cell_type": "code",
   "execution_count": 42,
   "metadata": {},
   "outputs": [
    {
     "data": {
      "text/plain": [
       "{1: 'a', 2: 'b', 3: 'c'}"
      ]
     },
     "execution_count": 42,
     "metadata": {},
     "output_type": "execute_result"
    }
   ],
   "source": [
    "dict(zip([1,2,3],('a','b','c')))"
   ]
  },
  {
   "cell_type": "code",
   "execution_count": 43,
   "metadata": {},
   "outputs": [],
   "source": [
    "voc_map = dict(zip(vocabulary,range(len(vocabulary))))"
   ]
  },
  {
   "cell_type": "code",
   "execution_count": 46,
   "metadata": {},
   "outputs": [],
   "source": [
    "import numpy as np\n",
    "clemens_vec = np.zeros(len(voc_map))\n",
    "for word in clemens_words:\n",
    "    clemens_vec[voc_map[word]] += 1"
   ]
  },
  {
   "cell_type": "code",
   "execution_count": 47,
   "metadata": {},
   "outputs": [],
   "source": [
    "johnson_vec = np.zeros(len(voc_map))\n",
    "for word in johnson_words:\n",
    "    johnson_vec[voc_map[word]] += 1"
   ]
  },
  {
   "cell_type": "code",
   "execution_count": 53,
   "metadata": {},
   "outputs": [],
   "source": [
    "georgia_vec = np.zeros(len(voc_map))\n",
    "for word in georgia_words:\n",
    "    georgia_vec[voc_map[word]] += 1"
   ]
  },
  {
   "cell_type": "code",
   "execution_count": 58,
   "metadata": {},
   "outputs": [],
   "source": [
    "scotland_vec = np.zeros(len(voc_map))\n",
    "for word in scotland_words:\n",
    "    scotland_vec[voc_map[word]] += 1"
   ]
  },
  {
   "cell_type": "code",
   "execution_count": 48,
   "metadata": {},
   "outputs": [
    {
     "data": {
      "text/plain": [
       "174088.0"
      ]
     },
     "execution_count": 48,
     "metadata": {},
     "output_type": "execute_result"
    }
   ],
   "source": [
    "np.sum(clemens_vec)"
   ]
  },
  {
   "cell_type": "code",
   "execution_count": 50,
   "metadata": {},
   "outputs": [],
   "source": [
    "import numpy.linalg as la"
   ]
  },
  {
   "cell_type": "code",
   "execution_count": 55,
   "metadata": {},
   "outputs": [],
   "source": [
    "def cosine_sim(v1,v2):\n",
    "    return np.inner(v1, v2)/\\\n",
    "    (la.norm(v1)*la.norm(v2))"
   ]
  },
  {
   "cell_type": "code",
   "execution_count": 56,
   "metadata": {},
   "outputs": [
    {
     "data": {
      "text/plain": [
       "0.941653338155784"
      ]
     },
     "execution_count": 56,
     "metadata": {},
     "output_type": "execute_result"
    }
   ],
   "source": [
    "cosine_sim(clemens_vec,johnson_vec)"
   ]
  },
  {
   "cell_type": "code",
   "execution_count": 57,
   "metadata": {},
   "outputs": [
    {
     "data": {
      "text/plain": [
       "0.8903173672258327"
      ]
     },
     "execution_count": 57,
     "metadata": {},
     "output_type": "execute_result"
    }
   ],
   "source": [
    "cosine_sim(clemens_vec, georgia_vec)"
   ]
  },
  {
   "cell_type": "code",
   "execution_count": 59,
   "metadata": {},
   "outputs": [
    {
     "data": {
      "text/plain": [
       "0.8971149483201024"
      ]
     },
     "execution_count": 59,
     "metadata": {},
     "output_type": "execute_result"
    }
   ],
   "source": [
    "cosine_sim(johnson_vec, scotland_vec)"
   ]
  },
  {
   "cell_type": "code",
   "execution_count": 60,
   "metadata": {},
   "outputs": [
    {
     "data": {
      "text/plain": [
       "0.9064592366639505"
      ]
     },
     "execution_count": 60,
     "metadata": {},
     "output_type": "execute_result"
    }
   ],
   "source": [
    "cosine_sim(georgia_vec, scotland_vec)"
   ]
  },
  {
   "cell_type": "markdown",
   "metadata": {},
   "source": [
    "##### Here is a little Python magic using **list comprehension** to keep only unique words that are not stopwords"
   ]
  },
  {
   "cell_type": "code",
   "execution_count": 62,
   "metadata": {},
   "outputs": [],
   "source": [
    "johnson_not_clemens_words = \\\n",
    "[word for word in johnson_words if word in johnson_not_clemens and \\\n",
    "                                word not in STOPWORDS]\n",
    "clemens_not_johnson_words = \\\n",
    "[word for word in clemens_words if word in clemens_not_johnson and \n",
    "                                                                        word not in STOPWORDS]\n",
    "\n",
    "scotland_not_johnson_words = [word for word in scotland_words if word in scotland_not_johnson and \n",
    "                                                                        word not in STOPWORDS]\n"
   ]
  },
  {
   "cell_type": "markdown",
   "metadata": {},
   "source": [
    "### Let's create the wordles\n",
    "\n",
    "#### Remember these are words that appear in one author but not another"
   ]
  },
  {
   "cell_type": "code",
   "execution_count": 63,
   "metadata": {},
   "outputs": [],
   "source": [
    "jwc = WordCloud().generate(' '.join(johnson_not_clemens_words))\n",
    "cwc = WordCloud().generate(' '.join(clemens_not_johnson_words))\n",
    "swc = WordCloud().generate(' '.join(scotland_not_johnson_words))\n"
   ]
  },
  {
   "cell_type": "code",
   "execution_count": 64,
   "metadata": {},
   "outputs": [
    {
     "data": {
      "text/plain": [
       "[('dollars', 143),\n",
       " ('slade', 81),\n",
       " ('virginia', 75),\n",
       " ('presently', 72),\n",
       " ('m', 70),\n",
       " ('nevada', 67),\n",
       " ('mining', 66),\n",
       " ('ll', 60),\n",
       " ('n', 59),\n",
       " ('o', 58),\n",
       " ('god', 58),\n",
       " ('mines', 58),\n",
       " ('sort', 56),\n",
       " ('san', 56),\n",
       " ('francisco', 56),\n",
       " ('mormon', 56),\n",
       " ('california', 55),\n",
       " ('week', 54),\n",
       " ('indians', 54),\n",
       " ('carson', 54)]"
      ]
     },
     "execution_count": 64,
     "metadata": {},
     "output_type": "execute_result"
    }
   ],
   "source": [
    "Counter(clemens_not_johnson_words).most_common(20)\n"
   ]
  },
  {
   "cell_type": "code",
   "execution_count": 65,
   "metadata": {},
   "outputs": [
    {
     "data": {
      "text/plain": [
       "(-0.5, 399.5, 199.5, -0.5)"
      ]
     },
     "execution_count": 65,
     "metadata": {},
     "output_type": "execute_result"
    },
    {
     "data": {
      "image/png": "[encoded data removed]",
      "text/plain": [
       "<Figure size 432x288 with 1 Axes>"
      ]
     },
     "metadata": {},
     "output_type": "display_data"
    }
   ],
   "source": [
    "plt.imshow(jwc)\n",
    "plt.axis(\"off\")"
   ]
  },
  {
   "cell_type": "code",
   "execution_count": 66,
   "metadata": {},
   "outputs": [
    {
     "data": {
      "text/plain": [
       "(-0.5, 399.5, 199.5, -0.5)"
      ]
     },
     "execution_count": 66,
     "metadata": {},
     "output_type": "execute_result"
    },
    {
     "data": {
      "image/png": "[encoded data removed]",
      "text/plain": [
       "<Figure size 432x288 with 1 Axes>"
      ]
     },
     "metadata": {},
     "output_type": "display_data"
    }
   ],
   "source": [
    "plt.imshow(cwc)\n",
    "plt.axis(\"off\")"
   ]
  },
  {
   "cell_type": "code",
   "execution_count": 67,
   "metadata": {},
   "outputs": [
    {
     "data": {
      "text/plain": [
       "(-0.5, 399.5, 199.5, -0.5)"
      ]
     },
     "execution_count": 67,
     "metadata": {},
     "output_type": "execute_result"
    },
    {
     "data": {
      "image/png": "[encoded data removed]",
      "text/plain": [
       "<Figure size 432x288 with 1 Axes>"
      ]
     },
     "metadata": {},
     "output_type": "display_data"
    }
   ],
   "source": [
    "plt.imshow(swc)\n",
    "plt.axis(\"off\")"
   ]
  },
  {
   "cell_type": "markdown",
   "metadata": {},
   "source": [
    "#### Where do you think the \"T\" in Clemens is coming from?\n",
    "\n",
    "* when we strip out the punctuation words like \"don't\" become \"don t\"\n",
    "* Can we conclude that Clemens wrote in a more informal style than Johnson with lots of contractions?\n",
    "    * Note that \"T\" also appears in the modern Scotland article comparison against Johnson"
   ]
  },
  {
   "cell_type": "markdown",
   "metadata": {},
   "source": [
    "#### Anything else that jumps out to you?\n",
    "\n",
    "* \"Mormon\" and \"Mormons\" in Clemens\n",
    "    * Should these be treated as different words really?\n",
    "* Obvious differences in place names, but also subjects like \"mining,\" \"sage brush\", \"laird\" and \"clans\"\n",
    "* Look at the creation of new words for new ideas when comparing the new and old Scotland article:\n",
    "    * electricity, plastic, referendum"
   ]
  },
  {
   "cell_type": "markdown",
   "metadata": {},
   "source": [
    "## Advanced Topics\n",
    "\n",
    "The package gensim has a [phrases](https://radimrehurek.com/gensim/models/phrases.html) model that allows you to recognize words that belong to part of the same phrase. For example, University of Utah is really one concept not three independent words. Gensim would modify \"University of Utah\" to be \"University_of_Utah\". Thus when we make a word cloud this would be treated as one word rather than three.\n",
    "\n",
    "Can you generate a better word cloud by firt passing the data through gensim's phrase detector?\n"
   ]
  },
  {
   "cell_type": "code",
   "execution_count": null,
   "metadata": {},
   "outputs": [],
   "source": [
    "import gensim"
   ]
  },
  {
   "cell_type": "code",
   "execution_count": null,
   "metadata": {},
   "outputs": [],
   "source": []
  }
 ],
 "metadata": {
  "anaconda-cloud": {},
  "kernelspec": {
   "display_name": "Python 3",
   "language": "python",
   "name": "python3"
  },
  "language_info": {
   "codemirror_mode": {
    "name": "ipython",
    "version": 3
   },
   "file_extension": ".py",
   "mimetype": "text/x-python",
   "name": "python",
   "nbconvert_exporter": "python",
   "pygments_lexer": "ipython3",
   "version": "3.5.5"
  }
 },
 "nbformat": 4,
 "nbformat_minor": 1
}
